{
  "nbformat": 4,
  "nbformat_minor": 0,
  "metadata": {
    "colab": {
      "provenance": []
    },
    "kernelspec": {
      "name": "python3",
      "display_name": "Python 3"
    },
    "language_info": {
      "name": "python"
    }
  },
  "cells": [
    {
      "cell_type": "code",
      "execution_count": 3,
      "metadata": {
        "id": "u468N8-asJFs"
      },
      "outputs": [],
      "source": []
    },
    {
      "cell_type": "code",
      "source": [
        "import torch\n",
        "import torch.nn as nn\n",
        "\n",
        "mlp_model = nn.Sequential(\n",
        "    nn.Linear(3, 4, bias=True),\n",
        "    nn.ReLU(),\n",
        "    nn.Linear(4, 2, bias=False),\n",
        "    nn.ReLU(),\n",
        "    nn.Linear(2, 5, bias=True),\n",
        "    nn.Sigmoid()\n",
        ")\n",
        "\n",
        "# Manually assign weights and biases\n",
        "with torch.no_grad():\n",
        "    # Layer 1\n",
        "    mlp_model[0].weight = nn.Parameter(torch.tensor([[1.0, -1.0, 1.0],\n",
        "                                                     [1.0, 1.0, 0.0],\n",
        "                                                     [0.0, 1.0, 1.0],\n",
        "                                                     [1.0, 0.0, 1.0]]))\n",
        "    mlp_model[0].bias = nn.Parameter(torch.tensor([-5.0, 0.0, 1.0, -2.0]))\n",
        "\n",
        "    # Layer 2 (no bias)\n",
        "    mlp_model[2].weight = nn.Parameter(torch.tensor([[1.0, -1.0, 1.0, 0.0],\n",
        "                                                     [0.0, 1.0, -1.0, 1.0]]))\n",
        "\n",
        "    # Layer 3\n",
        "    mlp_model[4].weight = nn.Parameter(torch.tensor([[1.0, -1.0],\n",
        "                                                     [-1.0, 1.0],\n",
        "                                                     [1.0, -2.0],\n",
        "                                                     [2.0, 1.0],\n",
        "                                                     [-3.0, 0.0]]))\n",
        "    mlp_model[4].bias = nn.Parameter(torch.tensor([2.0, 1.0, -2.0, 0.0, 1.0]))\n",
        "\n",
        "\n",
        "# Testing the model\n",
        "input_data = torch.tensor([2.0, 1.0, 3.0])\n",
        "output = mlp_model(input_data)\n",
        "print(output)"
      ],
      "metadata": {
        "colab": {
          "base_uri": "https://localhost:8080/"
        },
        "id": "lf8lKaV6sazM",
        "outputId": "ee9fe6dd-fd78-4229-8a16-b29eaef1b9a6"
      },
      "execution_count": 6,
      "outputs": [
        {
          "output_type": "stream",
          "name": "stdout",
          "text": [
            "tensor([0.9526, 0.5000, 0.1192, 0.9933, 0.0067], grad_fn=<TBackward0>)\n"
          ]
        }
      ]
    }
  ]
}