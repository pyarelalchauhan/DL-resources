{
  "nbformat": 4,
  "nbformat_minor": 0,
  "metadata": {
    "colab": {
      "provenance": []
    },
    "kernelspec": {
      "name": "python3",
      "display_name": "Python 3"
    },
    "language_info": {
      "name": "python"
    }
  },
  "cells": [
    {
      "cell_type": "code",
      "execution_count": 2,
      "metadata": {
        "colab": {
          "base_uri": "https://localhost:8080/"
        },
        "id": "V2g_WK_qIqlz",
        "outputId": "bdc8a86d-55ef-4049-f41b-ec2fe31f6f5a"
      },
      "outputs": [
        {
          "output_type": "stream",
          "name": "stdout",
          "text": [
            "2.1.0+cu121\n"
          ]
        }
      ],
      "source": [
        "import torch\n",
        "import torch.nn as nn\n",
        "print(torch.__version__)\n"
      ]
    },
    {
      "cell_type": "code",
      "source": [
        "# 1. Four Neurons ( 3 input (3,1) and 4 neurons)\n",
        "\n",
        "# Define your network\n",
        "net = nn.Linear(3, 4) # Single input feature (3,1) and four neuron\n",
        "\n",
        "# Manually set weights --> # 4*3 weight matrix\n",
        "weights = torch.tensor([[1.0, -1.0, 1.0],  # Neuron 1 weights\n",
        "                        [1.0, 1.0, 0.0],  # Neuron 2 weights\n",
        "                        [0.0, 1.0, 1.0],  # Neuron 3 weights\n",
        "                        [1.0, 0.0, 1.0]]) # Neuron 4 weights\n",
        "\n",
        "bias = torch.tensor([-5.0, 0.0, 1.0, -2.0]) # (4*1) bias --> in pytorch bias element represented as linear 1D vector\n",
        "\n",
        "# Assign weights and biases\n",
        "net.weight.data = weights\n",
        "net.bias.data = bias\n",
        "\n",
        "# Print the modified network\n",
        "print('network structure:')\n",
        "print(net)\n",
        "print('\\nWeight of the network:')\n",
        "print(net.weight)\n",
        "print('\\nBias of the network:')\n",
        "print(net.bias)\n",
        "\n",
        "# Now lets create the input vector x\n",
        "x = torch.tensor([[2.0, 1.0, 3.0]])\n",
        "print(\"input = x :\\n \",x)\n",
        "z = torch.matmul(net.weight,x.t()) + b.view(4,1); # b.view(4,1)\n",
        "print('w x + b :\\n',z)\n",
        "\n",
        "# Applying ReLU activation\n",
        "output = torch.relu(z)\n",
        "print('ReLU applied to w x + b:\\n', output)"
      ],
      "metadata": {
        "colab": {
          "base_uri": "https://localhost:8080/"
        },
        "id": "qLvXn-_eIzE7",
        "outputId": "336b74dd-193b-4482-8c6e-96fd6760b855"
      },
      "execution_count": 26,
      "outputs": [
        {
          "output_type": "stream",
          "name": "stdout",
          "text": [
            "network structure:\n",
            "Linear(in_features=3, out_features=4, bias=True)\n",
            "\n",
            "Weight of the network:\n",
            "Parameter containing:\n",
            "tensor([[ 1., -1.,  1.],\n",
            "        [ 1.,  1.,  0.],\n",
            "        [ 0.,  1.,  1.],\n",
            "        [ 1.,  0.,  1.]], requires_grad=True)\n",
            "\n",
            "Bias of the network:\n",
            "Parameter containing:\n",
            "tensor([-5.,  0.,  1., -2.], requires_grad=True)\n",
            "input = x :\n",
            "  tensor([[2., 1., 3.]])\n",
            "w x + b :\n",
            " tensor([[-1.],\n",
            "        [ 3.],\n",
            "        [ 5.],\n",
            "        [ 3.]], grad_fn=<AddBackward0>)\n",
            "ReLU applied to w x + b:\n",
            " tensor([[0.],\n",
            "        [3.],\n",
            "        [5.],\n",
            "        [3.]], grad_fn=<ReluBackward0>)\n"
          ]
        }
      ]
    }
  ]
}