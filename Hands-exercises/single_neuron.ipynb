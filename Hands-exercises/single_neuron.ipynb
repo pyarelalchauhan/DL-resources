{
  "nbformat": 4,
  "nbformat_minor": 0,
  "metadata": {
    "colab": {
      "provenance": []
    },
    "kernelspec": {
      "name": "python3",
      "display_name": "Python 3"
    },
    "language_info": {
      "name": "python"
    }
  },
  "cells": [
    {
      "cell_type": "code",
      "execution_count": 1,
      "metadata": {
        "colab": {
          "base_uri": "https://localhost:8080/"
        },
        "id": "SFJWR_2FTsq1",
        "outputId": "abbcfeec-7db2-4927-e825-97719da93480"
      },
      "outputs": [
        {
          "output_type": "stream",
          "name": "stdout",
          "text": [
            "2.1.0+cu121\n"
          ]
        }
      ],
      "source": [
        "import torch\n",
        "import torch.nn as nn\n",
        "print(torch.__version__)\n"
      ]
    },
    {
      "cell_type": "code",
      "source": [
        "# 1. Single Neuron\n",
        "\n",
        "# Define your network\n",
        "net = nn.Linear(3, 1) # Single input feature (3,1) and single neuron\n",
        "\n",
        "# Manually set weights\n",
        "weights = torch.tensor([[1.0, -1.0, 1.0]]) # 1*3 weight matrix\n",
        "biases = torch.tensor([-5.0]) # 1 bias\n",
        "\n",
        "# Assign weights and biases\n",
        "net.weight.data = weights\n",
        "net.bias.data = biases\n",
        "\n",
        "# Print the modified network\n",
        "print('network structure:')\n",
        "print(net)\n",
        "print('\\nWeight of the network:')\n",
        "print(net.weight)\n",
        "print('\\nBias of the network:')\n",
        "print(net.bias)\n",
        "\n",
        "# Now lets create the input vector x\n",
        "x = torch.tensor([[2.0,1.0,3.0]])\n",
        "print(\"input = x :\\n \",x)\n",
        "z = torch.mm(net.weight,x.t()) + net.bias;\n",
        "print('w x + b :\\n',z)\n",
        "\n",
        "# Applying ReLU activation\n",
        "output = torch.relu(z)\n",
        "print('ReLU applied to w x + b:\\n', output)"
      ],
      "metadata": {
        "colab": {
          "base_uri": "https://localhost:8080/"
        },
        "id": "qh9k4fmqT6O_",
        "outputId": "73d52a7c-a396-4233-83d3-2a4be361407b"
      },
      "execution_count": 2,
      "outputs": [
        {
          "output_type": "stream",
          "name": "stdout",
          "text": [
            "network structure:\n",
            "Linear(in_features=3, out_features=1, bias=True)\n",
            "\n",
            "Weight of the network:\n",
            "Parameter containing:\n",
            "tensor([[ 1., -1.,  1.]], requires_grad=True)\n",
            "\n",
            "Bias of the network:\n",
            "Parameter containing:\n",
            "tensor([-5.], requires_grad=True)\n",
            "input = x :\n",
            "  tensor([[2., 1., 3.]])\n",
            "w x + b :\n",
            " tensor([[-1.]], grad_fn=<AddBackward0>)\n",
            "ReLU applied to w x + b:\n",
            " tensor([[0.]], grad_fn=<ReluBackward0>)\n"
          ]
        }
      ]
    }
  ]
}